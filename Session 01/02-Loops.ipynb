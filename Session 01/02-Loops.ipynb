{
 "cells": [
  {
   "cell_type": "markdown",
   "source": [
    "__Range__\r\n",
    "\r\n",
    "the range(x) function returns a list of numbers from "
   ],
   "metadata": {}
  },
  {
   "cell_type": "markdown",
   "source": [
    "__While Loops__\r\n",
    "\r\n",
    "While loops execute while the condition is true"
   ],
   "metadata": {}
  },
  {
   "cell_type": "code",
   "execution_count": 2,
   "source": [
    "i = 0\r\n",
    "while i < 10:\r\n",
    "    print (i)\r\n",
    "    i = i + 1\r\n",
    "else:\r\n",
    "    print(\"Fin\")"
   ],
   "outputs": [
    {
     "output_type": "stream",
     "name": "stdout",
     "text": [
      "0\n",
      "1\n",
      "2\n",
      "3\n",
      "4\n",
      "5\n",
      "6\n",
      "7\n",
      "8\n",
      "9\n",
      "Fin\n"
     ]
    }
   ],
   "metadata": {}
  },
  {
   "cell_type": "markdown",
   "source": [
    "Ranges are often used in loops.  Here's the previous example "
   ],
   "metadata": {}
  },
  {
   "cell_type": "code",
   "execution_count": 1,
   "source": [
    "i = 0\r\n",
    "while i in range(10):\r\n",
    "    print (i)\r\n",
    "    i = i + 1\r\n",
    "else:\r\n",
    "    print(\"Fin\")"
   ],
   "outputs": [
    {
     "output_type": "stream",
     "name": "stdout",
     "text": [
      "0\n",
      "1\n",
      "2\n",
      "3\n",
      "4\n",
      "5\n",
      "6\n",
      "7\n",
      "8\n",
      "9\n",
      "Fin\n"
     ]
    }
   ],
   "metadata": {}
  },
  {
   "cell_type": "markdown",
   "source": [
    "__For loops__\r\n",
    "\r\n",
    "For loops are different in Python.  Instead of executing a fixed number of times, they are iterators"
   ],
   "metadata": {}
  },
  {
   "cell_type": "code",
   "execution_count": 3,
   "source": [
    "#Iterating over a string\r\n",
    "tira = \"anona\"\r\n",
    "for i in tira:\r\n",
    "    print (i)"
   ],
   "outputs": [
    {
     "output_type": "stream",
     "name": "stdout",
     "text": [
      "a\n",
      "n\n",
      "o\n",
      "n\n",
      "a\n"
     ]
    }
   ],
   "metadata": {}
  },
  {
   "cell_type": "code",
   "execution_count": 4,
   "source": [
    "#Iterating over a list\r\n",
    "lista = [\"perro\",\"gato\",\"conejo\",\"tortuga\"]\r\n",
    "for item in lista:\r\n",
    "    print (item)"
   ],
   "outputs": [
    {
     "output_type": "stream",
     "name": "stdout",
     "text": [
      "perro\n",
      "gato\n",
      "conejo\n",
      "tortuga\n"
     ]
    }
   ],
   "metadata": {}
  },
  {
   "cell_type": "code",
   "execution_count": 5,
   "source": [
    "#iterating over a range\r\n",
    "for i in range (9):\r\n",
    "    print (i)\r\n"
   ],
   "outputs": [
    {
     "output_type": "stream",
     "name": "stdout",
     "text": [
      "0\n",
      "1\n",
      "2\n",
      "3\n",
      "4\n",
      "5\n",
      "6\n",
      "7\n",
      "8\n"
     ]
    }
   ],
   "metadata": {}
  },
  {
   "cell_type": "code",
   "execution_count": 6,
   "source": [
    "#for cycles also have an else\r\n",
    "for i in range (9):\r\n",
    "    print (i)\r\n",
    "else:  \r\n",
    "    print (\"Fin\")\r\n"
   ],
   "outputs": [
    {
     "output_type": "stream",
     "name": "stdout",
     "text": [
      "0\n",
      "1\n",
      "2\n",
      "3\n",
      "4\n",
      "5\n",
      "6\n",
      "7\n",
      "8\n",
      "Fin\n"
     ]
    }
   ],
   "metadata": {}
  }
 ],
 "metadata": {
  "orig_nbformat": 4,
  "language_info": {
   "name": "python",
   "version": "3.8.5",
   "mimetype": "text/x-python",
   "codemirror_mode": {
    "name": "ipython",
    "version": 3
   },
   "pygments_lexer": "ipython3",
   "nbconvert_exporter": "python",
   "file_extension": ".py"
  },
  "kernelspec": {
   "name": "python3",
   "display_name": "Python 3.8.5 64-bit ('base': conda)"
  },
  "interpreter": {
   "hash": "177b7a29190623893b140a1b8e636927b7b052410f4aa3e91113be33a465e364"
  }
 },
 "nbformat": 4,
 "nbformat_minor": 2
}